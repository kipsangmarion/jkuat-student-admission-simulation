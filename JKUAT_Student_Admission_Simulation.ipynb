{
  "nbformat": 4,
  "nbformat_minor": 0,
  "metadata": {
    "colab": {
      "provenance": [],
      "include_colab_link": true
    },
    "kernelspec": {
      "name": "python3",
      "display_name": "Python 3"
    },
    "language_info": {
      "name": "python"
    }
  },
  "cells": [
    {
      "cell_type": "markdown",
      "metadata": {
        "id": "view-in-github",
        "colab_type": "text"
      },
      "source": [
        "<a href=\"https://colab.research.google.com/github/kipsangmarion/jkuat-student-admission-simulation/blob/main/JKUAT_Student_Admission_Simulation.ipynb\" target=\"_parent\"><img src=\"https://colab.research.google.com/assets/colab-badge.svg\" alt=\"Open In Colab\"/></a>"
      ]
    },
    {
      "cell_type": "markdown",
      "source": [
        "#1. Problem Formulation"
      ],
      "metadata": {
        "id": "N7sUVixLoiiP"
      }
    },
    {
      "cell_type": "markdown",
      "source": [
        "# 2. Objectives and Overall Project Plan"
      ],
      "metadata": {
        "id": "0ufezMC2pI01"
      }
    },
    {
      "cell_type": "markdown",
      "source": [
        "## 2.1 Objectives/ Questions to be answered by system\n",
        "\n",
        "* What is the average waiting time for students in the queue?\n",
        "* What is the average amount of time the server is idle?\n",
        "* What is the average service time for a student?\n",
        "* What is the average inter-arrival time?\n",
        "* What is the average amount of time a student spends in the system?\n",
        "* How can we optimize the queueing system to attend to students more efficiently?"
      ],
      "metadata": {
        "id": "WCN07Bqdpe2Z"
      }
    },
    {
      "cell_type": "markdown",
      "source": [
        "## 2.2 Project Plan\n",
        "\n",
        "### 2.2.1//State the alternativen systems and methods of evaluating them//\n",
        "\n",
        "### 2.2.2 Project team:\n",
        "\n",
        "Shirley Mbeyu Ddaiddo\n",
        "\n",
        "Ashley Mbeke Muoki\n",
        "\n",
        "Ceasar Njuguna Ngunu\n",
        "\n",
        "Marion Cherotich Kipsang\n",
        "\n",
        "Allan Erissat Okedo\n",
        "\n",
        "### 2.2.3 Cost of the study\n",
        "\n",
        "//maybe a water budget//\n",
        "\n",
        "### 2.2.4 //No of days rewuired to accomplisheach phase\n",
        "\n",
        "\n"
      ],
      "metadata": {
        "id": "4X7rmb5Vp66Y"
      }
    },
    {
      "cell_type": "markdown",
      "source": [
        "# 3. Model Conceptualization"
      ],
      "metadata": {
        "id": "xPvbRasXaBLf"
      }
    },
    {
      "cell_type": "markdown",
      "source": [
        "We consider a system for admitting students to Jomo Kenyatta University of agriculture and Technology. We then consider a sistuation with two servers attending to a single queue of students, and the number of students to be served is 40,000 students.\n",
        "\n",
        "We collect data on student arrival times and service times. We the consider a 1000 hours period of time. From that data, and for each student, we determine:\n",
        "* the inter-arrival times:\n",
        "    - This is the difference between the arrival times of the current students in the queue and the student who arrived right before them in the queue.\n",
        "    - The inter-arrival time for the first student in the queue is zero.\n",
        "* time service begins:\n",
        "    - Time service begins is dependent on the arrival time of the current student as compared to the time service ends for the previous student.\n",
        "    - If a student arrives before the previous student has been finished being served, their service begins when the previous student finishes being served.\n",
        "    - If a student arrives when the previous student has already been served, their service begins as soon as they arrive.\n",
        "* time service ends:\n",
        "    - Time that service ends for a student is equal to the sum of their arrival time and the time taken to serve them.\n",
        "* the queue wait times:\n",
        "    - Time that a student spends queueing depends on their arrival time as compared to the time service ends for the previous student.\n",
        "    - If a student arrives before the previous student has been finished being served, their time in the queue is the difference between the time service ends for the previous student and the current students arrival time.\n",
        "    - If a student arrives when the previous student has already been served, they do not spend any time queueing.\n",
        "* time in the system:\n",
        "    - The time a student spends in the system is the sum of the time they spent queueing and the time spend being served.\n",
        "* server idle times:\n",
        "    - Server idle times depends on the current students arrival time as compared to the time service ends for the previous student\n",
        "    - If a student arrives before another student has been finished being served, the server has no idle time since there is a student in the queue.\n",
        "    - If a student arrives when there is no one being served, the server is idle until the another student arrives.\n",
        "\n",
        "From the calculated data, we can determine the averages required, the effectiveness of the system, and how we can optimize the system."
      ],
      "metadata": {
        "id": "h_WTgYDsanYM"
      }
    },
    {
      "cell_type": "markdown",
      "source": [
        "# 4. Data Collection"
      ],
      "metadata": {
        "id": "uK86yewVh73s"
      }
    },
    {
      "cell_type": "markdown",
      "source": [
        "Data for the system is computer generated using pseudo-random numbers.\n",
        "\n",
        "* Arrival Time:\n",
        "\n",
        "Arrival time for students in minutes is generated using a function that generated pseudo-random numbers that increase. The fuction generates 40,000 arrival times that span 1000 hours/ 60,000 minutes.\n",
        "\n",
        "* Service Time:\n",
        "\n",
        "Service time for students in minutes is generated using a sin function that outputs pseudo-random values that are then multiplied by 10."
      ],
      "metadata": {
        "id": "zoA67ptLiDWJ"
      }
    },
    {
      "cell_type": "markdown",
      "source": [
        "# 5. Model Translation"
      ],
      "metadata": {
        "id": "19UA4UoMjJS6"
      }
    },
    {
      "cell_type": "markdown",
      "source": [
        "The above model is translated into python code."
      ],
      "metadata": {
        "id": "vBM0pdOTjRZ5"
      }
    },
    {
      "cell_type": "markdown",
      "source": [
        "## 5.1 Adding dependecies\n",
        "The system requires:\n",
        "* pandas, and numpy to compute calculations on data frames and arrays\n",
        "* random for the generation of pseudo-random numbers\n",
        "* math for access to the sine function"
      ],
      "metadata": {
        "id": "dKA2AJ6fjXPk"
      }
    },
    {
      "cell_type": "code",
      "execution_count": 1,
      "metadata": {
        "id": "2dz5t_h5M2gH"
      },
      "outputs": [],
      "source": [
        "import pandas as pd\n",
        "import numpy as np\n",
        "import random\n",
        "import math\n",
        "from math import sin"
      ]
    },
    {
      "cell_type": "markdown",
      "source": [
        "Initializing the number of servers"
      ],
      "metadata": {
        "id": "IhXTDUs1ovAW"
      }
    },
    {
      "cell_type": "code",
      "source": [
        "n_servers = 2"
      ],
      "metadata": {
        "id": "WX_FXwj7o3-a"
      },
      "execution_count": 26,
      "outputs": []
    },
    {
      "cell_type": "markdown",
      "source": [
        "## 5.2 Generating student service times"
      ],
      "metadata": {
        "id": "P8ZzhAC2j41m"
      }
    },
    {
      "cell_type": "code",
      "source": [
        "service_times= []\n",
        "\n",
        "for i in range(40000):\n",
        "  num = random.random()\n",
        "  time = round((10*(sin(num)+1)/2), 2)\n",
        "  service_times.append(time)\n",
        "\n",
        "len(service_times)"
      ],
      "metadata": {
        "colab": {
          "base_uri": "https://localhost:8080/"
        },
        "id": "vdkCc4GaQNan",
        "outputId": "9d657684-a082-421e-d32e-b262efce3b70"
      },
      "execution_count": 27,
      "outputs": [
        {
          "output_type": "execute_result",
          "data": {
            "text/plain": [
              "40000"
            ]
          },
          "metadata": {},
          "execution_count": 27
        }
      ]
    },
    {
      "cell_type": "markdown",
      "source": [
        "## 5.3 Generating student arrival times"
      ],
      "metadata": {
        "id": "wY5YrjjGkbA4"
      }
    },
    {
      "cell_type": "code",
      "source": [
        "arrival_times = []\n",
        "\n",
        "arrival_time = 10*random.random()\n",
        "arrival_times.append(round(arrival_time, 2))\n",
        "\n",
        "for i in range(39999):\n",
        "    arrival_time = 10*random.random() * ((60000-arrival_times[i])/60000) + arrival_times[i]\n",
        "    arrival_times.append(round(arrival_time, 2))\n",
        "\n",
        "for i in range(39999):\n",
        "     arrival_times[i]\n",
        "\n",
        "len(arrival_times)"
      ],
      "metadata": {
        "id": "WZjjqKlSiE1X",
        "colab": {
          "base_uri": "https://localhost:8080/"
        },
        "outputId": "59fff44e-4f61-4fe6-e30b-6c83d788f455"
      },
      "execution_count": 28,
      "outputs": [
        {
          "output_type": "execute_result",
          "data": {
            "text/plain": [
              "40000"
            ]
          },
          "metadata": {},
          "execution_count": 28
        }
      ]
    },
    {
      "cell_type": "markdown",
      "source": [
        "## 5.4 Calculating inter-arrival times"
      ],
      "metadata": {
        "id": "_g0hZG9kkuZy"
      }
    },
    {
      "cell_type": "code",
      "source": [
        "inter_arrival_times = [0]\n",
        "for i in range(1, 40000):\n",
        "    inter_arrival_time = round(arrival_times[i] - arrival_times[i - 1], 2)\n",
        "    inter_arrival_times.append(inter_arrival_time)\n",
        "\n",
        "len(inter_arrival_times)"
      ],
      "metadata": {
        "colab": {
          "base_uri": "https://localhost:8080/"
        },
        "id": "a53tV_u7tT6R",
        "outputId": "6d4aa94f-cdee-4a2f-be35-ef51d99c817c"
      },
      "execution_count": 29,
      "outputs": [
        {
          "output_type": "execute_result",
          "data": {
            "text/plain": [
              "40000"
            ]
          },
          "metadata": {},
          "execution_count": 29
        }
      ]
    },
    {
      "cell_type": "markdown",
      "source": [
        "## 5.5 Calculations for the following data:\n",
        "\n",
        "* When service begins\n",
        "* Time spent queueing\n",
        "* When service ends\n",
        "* Time spent in the system\n",
        "* Server idle time"
      ],
      "metadata": {
        "id": "QZwW4PEHlApi"
      }
    },
    {
      "cell_type": "code",
      "source": [
        "service_begin_times = [[arrival_times[0]] for _ in range(n_servers)]\n",
        "queue_wait_times = [[0.00] for _ in range(n_servers)]\n",
        "service_end_times = [[service_begin_times[0][0] + service_times[0]] for _ in range(n_servers)]\n",
        "times_in_system = [[service_times[0]] for _ in range(n_servers)]\n",
        "server_idle_times = [[0] for _ in range(n_servers)]\n",
        "\n",
        "for i in range(1, 40000):\n",
        "    # Find the server that ends service earliest\n",
        "    server_id = np.argmin([service_end_times[j][-1] for j in range(n_servers)])\n",
        "\n",
        "    if arrival_times[i] > service_end_times[server_id][-1]:\n",
        "        service_begin_time = arrival_times[i]\n",
        "        queue_wait_time = 0.00\n",
        "        server_idle_time = arrival_times[i] - service_end_times[server_id][-1]\n",
        "    else:\n",
        "        service_begin_time = service_end_times[server_id][-1]\n",
        "        queue_wait_time = service_end_times[server_id][-1] - arrival_times[i]\n",
        "        server_idle_time = 0.00\n",
        "\n",
        "    service_end_time = round(service_times[i] + service_begin_time, 2)\n",
        "    time_in_system = round(queue_wait_time + service_times[i], 2)\n",
        "\n",
        "    service_begin_times[server_id].append(service_begin_time)\n",
        "    queue_wait_times[server_id].append(queue_wait_time)\n",
        "    service_end_times[server_id].append(service_end_time)\n",
        "    times_in_system[server_id].append(time_in_system)\n",
        "    server_idle_times[server_id].append(server_idle_time)"
      ],
      "metadata": {
        "id": "axSnoWhLwKav"
      },
      "execution_count": 30,
      "outputs": []
    },
    {
      "cell_type": "markdown",
      "source": [
        "## 5.6 Adding all the data to a dataframe"
      ],
      "metadata": {
        "id": "SM6pWG-PmSPi"
      }
    },
    {
      "cell_type": "code",
      "source": [
        "# Creating a separate DataFrame for each server\n",
        "for i in range(n_servers):\n",
        "    ss = pd.DataFrame(\n",
        "        {'service_time': service_times[:len(service_begin_times[i])],\n",
        "         'arrival_time': arrival_times[:len(service_begin_times[i])],\n",
        "         'inter_arrival_time': inter_arrival_times[:len(service_begin_times[i])],\n",
        "         'time_service_begins': service_begin_times[i],\n",
        "         'queue_wait_time': queue_wait_times[i],\n",
        "         'time_service_ends': service_end_times[i],\n",
        "         'time_in_system': times_in_system[i],\n",
        "         'server_idle_time': server_idle_times[i]\n",
        "        })"
      ],
      "metadata": {
        "id": "6wJDmpiUlP75"
      },
      "execution_count": 31,
      "outputs": []
    },
    {
      "cell_type": "markdown",
      "source": [
        "## 5.9 Converting the data to a csv file"
      ],
      "metadata": {
        "id": "wZtNJebTmh62"
      }
    },
    {
      "cell_type": "code",
      "source": [
        "ss.to_csv(f'admission_data_server_{i}.csv')"
      ],
      "metadata": {
        "id": "2tjPtUDHSlpK"
      },
      "execution_count": 33,
      "outputs": []
    },
    {
      "cell_type": "markdown",
      "source": [
        "## 5.10 Calculating the results"
      ],
      "metadata": {
        "id": "aKyiI6wdmrGp"
      }
    },
    {
      "cell_type": "code",
      "source": [
        "average_waiting_time = ss['queue_wait_time'].mean()\n",
        "average_idle_server_time = ss['server_idle_time'].mean()\n",
        "average_service_time = ss['service_time'].mean()\n",
        "average_inter_arrival_time = ss['inter_arrival_time'].mean()\n",
        "average_time_in_system = ss['time_in_system'].mean()\n"
      ],
      "metadata": {
        "id": "b8Si_5CJriOG"
      },
      "execution_count": 34,
      "outputs": []
    },
    {
      "cell_type": "code",
      "source": [
        "print(f\"The average waiting time is: {round(average_waiting_time,2)}\")\n",
        "print(f\"The average idle server time is: {average_idle_server_time}\")\n",
        "print(f\"The average service time is: {round(average_service_time, 2)}\")\n",
        "print(f\"The average inter arrival time is:{round(average_inter_arrival_time, 2)}\")\n",
        "print(f\"The average time a customer spent in the system: {round(average_time_in_system, 2)}\")"
      ],
      "metadata": {
        "id": "kdCrohkTJuKf",
        "colab": {
          "base_uri": "https://localhost:8080/"
        },
        "outputId": "1b6c6a47-b240-4f09-95d7-cb6c1e005b82"
      },
      "execution_count": 35,
      "outputs": [
        {
          "output_type": "stream",
          "name": "stdout",
          "text": [
            "The average waiting time is: 32752.0\n",
            "The average idle server time is: 0.12226965955106803\n",
            "The average service time is: 7.3\n",
            "The average inter arrival time is:2.43\n",
            "The average time a customer spent in the system: 32759.3\n"
          ]
        }
      ]
    },
    {
      "cell_type": "markdown",
      "source": [
        "# 6. Model Verification"
      ],
      "metadata": {
        "id": "OtE2BkKQm05M"
      }
    },
    {
      "cell_type": "markdown",
      "source": [
        "# 7. Model Validation"
      ],
      "metadata": {
        "id": "IiKzq-_Sm68o"
      }
    },
    {
      "cell_type": "markdown",
      "source": [
        "# 8. Experimental design"
      ],
      "metadata": {
        "id": "NHCkJRPcnCK0"
      }
    }
  ]
}