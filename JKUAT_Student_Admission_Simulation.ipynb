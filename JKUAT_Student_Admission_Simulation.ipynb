{
  "nbformat": 4,
  "nbformat_minor": 0,
  "metadata": {
    "colab": {
      "provenance": [],
      "include_colab_link": true
    },
    "kernelspec": {
      "name": "python3",
      "display_name": "Python 3"
    },
    "language_info": {
      "name": "python"
    }
  },
  "cells": [
    {
      "cell_type": "markdown",
      "metadata": {
        "id": "view-in-github",
        "colab_type": "text"
      },
      "source": [
        "<a href=\"https://colab.research.google.com/github/kipsangmarion/jkuat-student-admission-simulation/blob/main/JKUAT_Student_Admission_Simulation.ipynb\" target=\"_parent\"><img src=\"https://colab.research.google.com/assets/colab-badge.svg\" alt=\"Open In Colab\"/></a>"
      ]
    },
    {
      "cell_type": "markdown",
      "source": [
        "# **JKUAT STUDENT ADMISSION SIMULATION**"
      ],
      "metadata": {
        "id": "wkia5GUQ4E7c"
      }
    },
    {
      "cell_type": "markdown",
      "source": [
        "TABLE OF CONTENTS\n",
        "\n",
        ">[1.0 Problem Formulation](#scrollTo=N7sUVixLoiiP)\n",
        "\n",
        ">[2.0 Objectives and Overall Project Plan](#scrollTo=0ufezMC2pI01)\n",
        "\n",
        ">>[2.1 Objectives/ Questions to be answered by system](#scrollTo=WCN07Bqdpe2Z)\n",
        "\n",
        ">>[2.2 Project Plan](#scrollTo=4X7rmb5Vp66Y)\n",
        "\n",
        ">>>[2.2.1 Alternativen systems and methods of evaluating them](#scrollTo=4X7rmb5Vp66Y)\n",
        "\n",
        ">>>[2.2.2 Project team:](#scrollTo=4X7rmb5Vp66Y)\n",
        "\n",
        ">[3.0 Model Conceptualization](#scrollTo=xPvbRasXaBLf)\n",
        "\n",
        ">[4.0 Data Collection](#scrollTo=uK86yewVh73s)\n",
        "\n",
        ">[5.0 Model Translation](#scrollTo=19UA4UoMjJS6)\n",
        "\n",
        ">>[5.1 Adding dependecies](#scrollTo=dKA2AJ6fjXPk)\n",
        "\n",
        ">>[5.2 Generating student service times](#scrollTo=P8ZzhAC2j41m)\n",
        "\n",
        ">>[5.3 Generating student arrival times](#scrollTo=wY5YrjjGkbA4)\n",
        "\n",
        ">>[5.4 Calculating inter-arrival times](#scrollTo=_g0hZG9kkuZy)\n",
        "\n",
        ">>[5.5 Calculations for the following data:](#scrollTo=QZwW4PEHlApi)\n",
        "\n",
        ">>[5.6 Adding all the data to a dataframe](#scrollTo=SM6pWG-PmSPi)\n",
        "\n",
        ">>[5.7 Calculating the results](#scrollTo=aKyiI6wdmrGp)\n",
        "\n",
        ">[6.0 Model Verification](#scrollTo=OtE2BkKQm05M)\n",
        "\n",
        ">[7.0 Model Validation](#scrollTo=IiKzq-_Sm68o)\n",
        "\n",
        ">[8.0 Experimental design](#scrollTo=NHCkJRPcnCK0)\n",
        "\n",
        ">>[8.1 Setting up parameters for the simulation](#scrollTo=38F6N50atD4j)\n",
        "\n",
        ">>[8.2 Functions to monitor the student and their arrival](#scrollTo=j-h9EzICu0eF)\n",
        "\n",
        ">>[8.4 Defining the optimal conditions that the simulation should determine](#scrollTo=U1BAmdiQxCHK)\n",
        "\n",
        ">>[8.5 Finding Optimal Conditions](#scrollTo=cQcTNgSXyIY0)\n",
        "\n",
        ">>[8.6 The results](#scrollTo=wA8SDo5ayosK)\n",
        "\n",
        ">[9.0 More runs](#scrollTo=3SYdz765UD8W)\n",
        "\n",
        ">[10.0 Implementation](#scrollTo=OsuCcYC2zTCz)\n",
        "\n",
        ">[11.0 References](#scrollTo=iPpIkK0w6SAJ)\n",
        "\n"
      ],
      "metadata": {
        "colab_type": "toc",
        "id": "FjK2B-Nn39sW"
      }
    },
    {
      "cell_type": "markdown",
      "source": [
        "#1. Problem Formulation"
      ],
      "metadata": {
        "id": "N7sUVixLoiiP"
      }
    },
    {
      "cell_type": "markdown",
      "source": [
        "The student admission process in Jomo Kenyatta University of Agriculture and Technology is slow and cumbersome. The students spend a long time in the queue due to slow service. The servers are few in number when compared to the number of students. Our aim for the simulation is to determine an optimum set of conditions that will allow the admission process to run smoothly, efficiently and faster. In this project, we will focus the simulation on a single college, College of Pure and Applied Sciences."
      ],
      "metadata": {
        "id": "gaWd2u3zzz09"
      }
    },
    {
      "cell_type": "markdown",
      "source": [
        "# 2. Objectives and Overall Project Plan"
      ],
      "metadata": {
        "id": "0ufezMC2pI01"
      }
    },
    {
      "cell_type": "markdown",
      "source": [
        "## 2.1 Objectives/ Questions to be answered by system\n",
        "\n",
        "* What is the average waiting time for students in the queue?\n",
        "* What is the average amount of time the server is idle?\n",
        "* What is the average service time for a student?\n",
        "* What is the average inter-arrival time?\n",
        "* What is the average amount of time a student spends in the system?\n",
        "* How can we optimize the queueing system to attend to students more efficiently?"
      ],
      "metadata": {
        "id": "WCN07Bqdpe2Z"
      }
    },
    {
      "cell_type": "markdown",
      "source": [
        "## 2.2 Project Plan\n",
        "\n",
        "### 2.2.1 Alternativen systems and methods of evaluating them\n",
        "1. Online addmission which can be evaluated on the basis of the efficiency of network servers and availability of reliable internet connection for students.\n",
        "\n",
        "### 2.2.2 Project team:\n",
        "\n",
        "Shirley Mbeyu Ddaiddo\n",
        "\n",
        "Ashley Mbeke Muoki\n",
        "\n",
        "Ceasar Njuguna Ngunu\n",
        "\n",
        "Marion Cherotich Kipsang\n",
        "\n",
        "Allan Erissat Okedo\n",
        "\n",
        "\n",
        "\n"
      ],
      "metadata": {
        "id": "4X7rmb5Vp66Y"
      }
    },
    {
      "cell_type": "markdown",
      "source": [
        "# 3. Model Conceptualization"
      ],
      "metadata": {
        "id": "xPvbRasXaBLf"
      }
    },
    {
      "cell_type": "markdown",
      "source": [
        "We consider a system for admitting students to Jomo Kenyatta University of agriculture and Technology, College of Pure and Applied Sciences. We then consider a situation with two servers attending to a single queue of students, and the number of students to be served is 1,000 students.\n",
        "\n",
        "We collect data on student arrival times and service times. We the consider a 1000 hours period of time. From that data, and for each student, we determine:\n",
        "* the inter-arrival times:\n",
        "    - This is the difference between the arrival times of the current students in the queue and the student who arrived right before them in the queue.\n",
        "    - The inter-arrival time for the first student in the queue is zero.\n",
        "* time service begins:\n",
        "    - Time service begins is dependent on the arrival time of the current student as compared to the time service ends for the previous student.\n",
        "    - If a student arrives before the previous student has been finished being served, their service begins when the previous student finishes being served.\n",
        "    - If a student arrives when the previous student has already been served, their service begins as soon as they arrive.\n",
        "* time service ends:\n",
        "    - Time that service ends for a student is equal to the sum of their arrival time and the time taken to serve them.\n",
        "* the queue wait times:\n",
        "    - Time that a student spends queueing depends on their arrival time as compared to the time service ends for the previous student.\n",
        "    - If a student arrives before the previous student has been finished being served, their time in the queue is the difference between the time service ends for the previous student and the current students arrival time.\n",
        "    - If a student arrives when the previous student has already been served, they do not spend any time queueing.\n",
        "* time in the system:\n",
        "    - The time a student spends in the system is the sum of the time they spent queueing and the time spend being served.\n",
        "* server idle times:\n",
        "    - Server idle times depends on the current students arrival time as compared to the time service ends for the previous student\n",
        "    - If a student arrives before another student has been finished being served, the server has no idle time since there is a student in the queue.\n",
        "    - If a student arrives when there is no one being served, the server is idle until the another student arrives.\n",
        "\n",
        "From the calculated data, we can determine the averages required, the effectiveness of the system, and how we can optimize the system."
      ],
      "metadata": {
        "id": "h_WTgYDsanYM"
      }
    },
    {
      "cell_type": "markdown",
      "source": [
        "# 4. Data Collection"
      ],
      "metadata": {
        "id": "uK86yewVh73s"
      }
    },
    {
      "cell_type": "markdown",
      "source": [
        "Data for the system is computer generated using pseudo-random numbers.\n",
        "\n",
        "* Arrival Time:\n",
        "\n",
        "Arrival time for students in minutes is generated using a function that generated pseudo-random numbers that increase. The fuction generates 1,000 arrival times that span 1000 hours/ 60,000 minutes.\n",
        "\n",
        "* Service Time:\n",
        "\n",
        "Service time for students in minutes is generated using a sin function that outputs pseudo-random values that are then multiplied by 10."
      ],
      "metadata": {
        "id": "zoA67ptLiDWJ"
      }
    },
    {
      "cell_type": "markdown",
      "source": [
        "# 5. Model Translation"
      ],
      "metadata": {
        "id": "19UA4UoMjJS6"
      }
    },
    {
      "cell_type": "markdown",
      "source": [
        "The above model is translated into python code."
      ],
      "metadata": {
        "id": "vBM0pdOTjRZ5"
      }
    },
    {
      "cell_type": "markdown",
      "source": [
        "## 5.1 Adding dependecies\n",
        "The system requires:\n",
        "* simpy for access to an environment that allows us to run simulations\n",
        "* pandas, and numpy to compute calculations on data frames and arrays\n",
        "* random for the generation of pseudo-random numbers\n",
        "* math for access to the sine function"
      ],
      "metadata": {
        "id": "dKA2AJ6fjXPk"
      }
    },
    {
      "cell_type": "code",
      "execution_count": 29,
      "metadata": {
        "id": "2dz5t_h5M2gH",
        "colab": {
          "base_uri": "https://localhost:8080/",
          "height": 0
        },
        "outputId": "7094c9a8-767f-4c9c-af50-00fcc0d121e2"
      },
      "outputs": [
        {
          "output_type": "stream",
          "name": "stdout",
          "text": [
            "Requirement already satisfied: simpy in /usr/local/lib/python3.10/dist-packages (4.0.1)\n"
          ]
        }
      ],
      "source": [
        "!pip install simpy\n",
        "import simpy\n",
        "import pandas as pd\n",
        "import numpy as np\n",
        "import random\n",
        "import math\n",
        "from math import sin"
      ]
    },
    {
      "cell_type": "markdown",
      "source": [
        "Initializing the number of servers"
      ],
      "metadata": {
        "id": "IhXTDUs1ovAW"
      }
    },
    {
      "cell_type": "code",
      "source": [
        "n_servers = 2"
      ],
      "metadata": {
        "id": "WX_FXwj7o3-a"
      },
      "execution_count": 30,
      "outputs": []
    },
    {
      "cell_type": "markdown",
      "source": [
        "## 5.2 Generating student service times"
      ],
      "metadata": {
        "id": "P8ZzhAC2j41m"
      }
    },
    {
      "cell_type": "code",
      "source": [
        "service_times= []\n",
        "\n",
        "for i in range(1000):\n",
        "  num = random.random()\n",
        "  time = round((10*(sin(num)+1)/2), 2)\n",
        "  service_times.append(time)\n",
        "\n",
        "len(service_times)"
      ],
      "metadata": {
        "colab": {
          "base_uri": "https://localhost:8080/",
          "height": 0
        },
        "id": "vdkCc4GaQNan",
        "outputId": "00118ac7-518b-4e8f-a544-15d3b0fd5efd"
      },
      "execution_count": 47,
      "outputs": [
        {
          "output_type": "execute_result",
          "data": {
            "text/plain": [
              "1000"
            ]
          },
          "metadata": {},
          "execution_count": 47
        }
      ]
    },
    {
      "cell_type": "markdown",
      "source": [
        "## 5.3 Generating student arrival times"
      ],
      "metadata": {
        "id": "wY5YrjjGkbA4"
      }
    },
    {
      "cell_type": "code",
      "source": [
        "arrival_times = []\n",
        "\n",
        "arrival_time = 10*random.random()\n",
        "arrival_times.append(round(arrival_time, 2))\n",
        "\n",
        "for i in range(999):\n",
        "    arrival_time = 10*random.random() * ((60000-arrival_times[i])/60000) + arrival_times[i]\n",
        "    arrival_times.append(round(arrival_time, 2))\n",
        "\n",
        "for i in range(999):\n",
        "     arrival_times[i]\n",
        "\n",
        "len(arrival_times)"
      ],
      "metadata": {
        "id": "WZjjqKlSiE1X",
        "colab": {
          "base_uri": "https://localhost:8080/",
          "height": 0
        },
        "outputId": "ea446207-ca76-4c08-8241-25a172f88f9c"
      },
      "execution_count": 48,
      "outputs": [
        {
          "output_type": "execute_result",
          "data": {
            "text/plain": [
              "1000"
            ]
          },
          "metadata": {},
          "execution_count": 48
        }
      ]
    },
    {
      "cell_type": "markdown",
      "source": [
        "## 5.4 Calculating inter-arrival times"
      ],
      "metadata": {
        "id": "_g0hZG9kkuZy"
      }
    },
    {
      "cell_type": "code",
      "source": [
        "inter_arrival_times = [0]\n",
        "for i in range(1, 1000):\n",
        "    inter_arrival_time = round(arrival_times[i] - arrival_times[i - 1], 2)\n",
        "    inter_arrival_times.append(inter_arrival_time)\n",
        "\n",
        "len(inter_arrival_times)"
      ],
      "metadata": {
        "colab": {
          "base_uri": "https://localhost:8080/",
          "height": 0
        },
        "id": "a53tV_u7tT6R",
        "outputId": "19867a71-93b4-4b20-f072-6a6df03b52a5"
      },
      "execution_count": 49,
      "outputs": [
        {
          "output_type": "execute_result",
          "data": {
            "text/plain": [
              "1000"
            ]
          },
          "metadata": {},
          "execution_count": 49
        }
      ]
    },
    {
      "cell_type": "markdown",
      "source": [
        "## 5.5 Calculations for the following data:\n",
        "\n",
        "* When service begins\n",
        "* Time spent queueing\n",
        "* When service ends\n",
        "* Time spent in the system\n",
        "* Server idle time"
      ],
      "metadata": {
        "id": "QZwW4PEHlApi"
      }
    },
    {
      "cell_type": "code",
      "source": [
        "service_begin_times = [[arrival_times[0]] for _ in range(n_servers)]\n",
        "queue_wait_times = [[0.00] for _ in range(n_servers)]\n",
        "service_end_times = [[service_begin_times[0][0] + service_times[0]] for _ in range(n_servers)]\n",
        "times_in_system = [[service_times[0]] for _ in range(n_servers)]\n",
        "server_idle_times = [[0] for _ in range(n_servers)]\n",
        "\n",
        "for i in range(1, 1000):\n",
        "    # Find the server that ends service earliest\n",
        "    server_id = np.argmin([service_end_times[j][-1] for j in range(n_servers)])\n",
        "\n",
        "    if arrival_times[i] > service_end_times[server_id][-1]:\n",
        "        service_begin_time = arrival_times[i]\n",
        "        queue_wait_time = 0.00\n",
        "        server_idle_time = arrival_times[i] - service_end_times[server_id][-1]\n",
        "    else:\n",
        "        service_begin_time = service_end_times[server_id][-1]\n",
        "        queue_wait_time = service_end_times[server_id][-1] - arrival_times[i]\n",
        "        server_idle_time = 0.00\n",
        "\n",
        "    service_end_time = round(service_times[i] + service_begin_time, 2)\n",
        "    time_in_system = round(queue_wait_time + service_times[i], 2)\n",
        "\n",
        "    service_begin_times[server_id].append(service_begin_time)\n",
        "    queue_wait_times[server_id].append(queue_wait_time)\n",
        "    service_end_times[server_id].append(service_end_time)\n",
        "    times_in_system[server_id].append(time_in_system)\n",
        "    server_idle_times[server_id].append(server_idle_time)"
      ],
      "metadata": {
        "id": "axSnoWhLwKav"
      },
      "execution_count": 50,
      "outputs": []
    },
    {
      "cell_type": "markdown",
      "source": [
        "## 5.6 Adding all the data to a dataframe"
      ],
      "metadata": {
        "id": "SM6pWG-PmSPi"
      }
    },
    {
      "cell_type": "code",
      "source": [
        "# Creating a separate DataFrame for each server\n",
        "for i in range(n_servers):\n",
        "    ss = pd.DataFrame(\n",
        "        {'service_time': service_times[:len(service_begin_times[i])],\n",
        "         'arrival_time': arrival_times[:len(service_begin_times[i])],\n",
        "         'inter_arrival_time': inter_arrival_times[:len(service_begin_times[i])],\n",
        "         'time_service_begins': service_begin_times[i],\n",
        "         'queue_wait_time': queue_wait_times[i],\n",
        "         'time_service_ends': service_end_times[i],\n",
        "         'time_in_system': times_in_system[i],\n",
        "         'server_idle_time': server_idle_times[i]\n",
        "        })\n",
        "    ss.to_csv(f'admission_data_server_{i}.csv')"
      ],
      "metadata": {
        "id": "6wJDmpiUlP75"
      },
      "execution_count": 51,
      "outputs": []
    },
    {
      "cell_type": "markdown",
      "source": [
        "## 5.7 Calculating the results"
      ],
      "metadata": {
        "id": "aKyiI6wdmrGp"
      }
    },
    {
      "cell_type": "code",
      "source": [
        "average_waiting_time = ss['queue_wait_time'].mean()\n",
        "average_idle_server_time = ss['server_idle_time'].mean()\n",
        "average_service_time = ss['service_time'].mean()\n",
        "average_inter_arrival_time = ss['inter_arrival_time'].mean()\n",
        "average_time_in_system = ss['time_in_system'].mean()\n"
      ],
      "metadata": {
        "id": "b8Si_5CJriOG"
      },
      "execution_count": 52,
      "outputs": []
    },
    {
      "cell_type": "code",
      "source": [
        "print(f\"The average waiting time is: {round(average_waiting_time,2)}\")\n",
        "print(f\"The average idle server time is: {average_idle_server_time}\")\n",
        "print(f\"The average service time is: {round(average_service_time, 2)}\")\n",
        "print(f\"The average inter arrival time is:{round(average_inter_arrival_time, 2)}\")\n",
        "print(f\"The average time a studnet spent in the system: {round(average_time_in_system, 2)}\")"
      ],
      "metadata": {
        "id": "kdCrohkTJuKf",
        "colab": {
          "base_uri": "https://localhost:8080/",
          "height": 0
        },
        "outputId": "8466396b-61c7-4a01-c3c5-dfbdc57eeb3f"
      },
      "execution_count": 53,
      "outputs": [
        {
          "output_type": "stream",
          "name": "stdout",
          "text": [
            "The average waiting time is: 1.61\n",
            "The average idle server time is: 2.2721115537848635\n",
            "The average service time is: 7.19\n",
            "The average inter arrival time is:4.8\n",
            "The average time a studnet spent in the system: 8.88\n"
          ]
        }
      ]
    },
    {
      "cell_type": "markdown",
      "source": [
        "# 6. Model Verification"
      ],
      "metadata": {
        "id": "OtE2BkKQm05M"
      }
    },
    {
      "cell_type": "markdown",
      "source": [
        "These checks will give us some insights into whether the simulation results align with our expectations. If the simulation is correct, the average service time, queue wait time, and time in the system should be reasonably close to the specified values (10 * (sin(num) + 1) / 2) in the code.\n",
        "\n",
        "The `inter_arrival_times` will not have any effect in this verification, as it is calculated from the generated `arrival_times`, and the `server_idle_times` will be zero for both servers as they are initialized to zero and not updated in the provided code."
      ],
      "metadata": {
        "id": "PCNh7UI1ykPb"
      }
    },
    {
      "cell_type": "code",
      "source": [
        "# Read the CSV files for both servers\n",
        "server_0_data = pd.read_csv('admission_data_server_0.csv')\n",
        "server_1_data = pd.read_csv('admission_data_server_1.csv')\n",
        "\n",
        "# Check the number of rows in each DataFrame\n",
        "print(\"Number of rows in Server 0 data:\", len(server_0_data))\n",
        "print(\"Number of rows in Server 1 data:\", len(server_1_data))\n",
        "\n",
        "# Calculate the average service time for both servers\n",
        "avg_service_time_server_0 = server_0_data['service_time'].mean()\n",
        "avg_service_time_server_1 = server_1_data['service_time'].mean()\n",
        "print(\"Average service time for Server 0:\", avg_service_time_server_0)\n",
        "print(\"Average service time for Server 1:\", avg_service_time_server_1)\n",
        "\n",
        "# Calculate the average queue wait time for both servers\n",
        "avg_queue_wait_time_server_0 = server_0_data['queue_wait_time'].mean()\n",
        "avg_queue_wait_time_server_1 = server_1_data['queue_wait_time'].mean()\n",
        "print(\"Average queue wait time for Server 0:\", avg_queue_wait_time_server_0)\n",
        "print(\"Average queue wait time for Server 1:\", avg_queue_wait_time_server_1)\n",
        "\n",
        "# Calculate the average time in the system for both servers\n",
        "avg_time_in_system_server_0 = server_0_data['time_in_system'].mean()\n",
        "avg_time_in_system_server_1 = server_1_data['time_in_system'].mean()\n",
        "print(\"Average time in the system for Server 0:\", avg_time_in_system_server_0)\n",
        "print(\"Average time in the system for Server 1:\", avg_time_in_system_server_1)\n"
      ],
      "metadata": {
        "colab": {
          "base_uri": "https://localhost:8080/",
          "height": 0
        },
        "id": "X3WOIAJ7wZmS",
        "outputId": "e4ca188b-2cae-4191-aa17-c16af0bb33d7"
      },
      "execution_count": 54,
      "outputs": [
        {
          "output_type": "stream",
          "name": "stdout",
          "text": [
            "Number of rows in Server 0 data: 499\n",
            "Number of rows in Server 1 data: 502\n",
            "Average service time for Server 0: 7.190080160320641\n",
            "Average service time for Server 1: 7.192330677290837\n",
            "Average queue wait time for Server 0: 1.5077154308617247\n",
            "Average queue wait time for Server 1: 1.6062350597609512\n",
            "Average time in the system for Server 0: 8.735490981963926\n",
            "Average time in the system for Server 1: 8.876254980079679\n"
          ]
        }
      ]
    },
    {
      "cell_type": "markdown",
      "source": [
        "# 7. Model Validation"
      ],
      "metadata": {
        "id": "IiKzq-_Sm68o"
      }
    },
    {
      "cell_type": "markdown",
      "source": [
        "In this code, we read the data from each server's CSV file into separate DataFrames. Then, we concatenate the data from all servers into a single DataFrame called `simulated_data`. We calculate the average service time, average queue wait time, average time in the system, and average server idle time for the entire simulated system.\n",
        "\n",
        "By comparing these calculated statistics with the expected values (based on the underlying queuing model), we can validate whether the simulation behaves as intended and whether the calculated metrics align with the assumptions and logic of the simulation.\n",
        "\n",
        "In this code, we use the `sem()` function from pandas to calculate the standard error of the mean for each statistic in the simulated_data. Then, we calculate the margin of error for a 95% confidence interval using a z-score of 1.96 (corresponding to a 95% confidence level for a normal distribution).\n",
        "\n",
        "The margin of error gives an estimate of how much the sample mean might differ from the true population mean. A larger margin of error indicates higher uncertainty in the estimate, while a smaller margin of error suggests a more precise estimate.\n",
        "\n",
        "This calculation assumes the underlying distribution is approximately normal, and the sample size is large enough for the Central Limit Theorem to hold."
      ],
      "metadata": {
        "id": "c6LFIUTAz0xo"
      }
    },
    {
      "cell_type": "code",
      "source": [
        "# Number of servers\n",
        "n_servers = 2\n",
        "\n",
        "# Lists to store data for both servers\n",
        "all_data = []\n",
        "\n",
        "# Loop to read data from each server's CSV file\n",
        "for server_id in range(n_servers):\n",
        "    # Read the CSV file for the current server\n",
        "    server_data = pd.read_csv(f'admission_data_server_{server_id}.csv')\n",
        "\n",
        "    # Append the server data to the list\n",
        "    all_data.append(server_data)\n",
        "\n",
        "# Concatenate data from all servers into a single DataFrame\n",
        "simulated_data = pd.concat(all_data)\n",
        "\n",
        "# Calculate overall statistics for the simulation\n",
        "avg_service_time = simulated_data['service_time'].mean()\n",
        "avg_queue_wait_time = simulated_data['queue_wait_time'].mean()\n",
        "avg_time_in_system = simulated_data['time_in_system'].mean()\n",
        "avg_server_idle_time = simulated_data['server_idle_time'].mean()\n",
        "\n",
        "# Calculate the standard errors for each statistic\n",
        "std_error_service_time = simulated_data['service_time'].sem()\n",
        "std_error_queue_wait_time = simulated_data['queue_wait_time'].sem()\n",
        "std_error_time_in_system = simulated_data['time_in_system'].sem()\n",
        "std_error_server_idle_time = simulated_data['server_idle_time'].sem()\n",
        "\n",
        "# Calculate the margin of error for a 95% confidence interval (z-score = 1.96)\n",
        "margin_of_error_service_time = 1.96 * std_error_service_time\n",
        "margin_of_error_queue_wait_time = 1.96 * std_error_queue_wait_time\n",
        "margin_of_error_time_in_system = 1.96 * std_error_time_in_system\n",
        "margin_of_error_server_idle_time = 1.96 * std_error_server_idle_time\n",
        "\n",
        "# Display results\n",
        "print(\"Average service time:\", avg_service_time)\n",
        "print(\"Margin of error for service time:\", margin_of_error_service_time)\n",
        "\n",
        "print(\"Average queue wait time:\", avg_queue_wait_time)\n",
        "print(\"Margin of error for queue wait time:\", margin_of_error_queue_wait_time)\n",
        "\n",
        "print(\"Average time in the system:\", avg_time_in_system)\n",
        "print(\"Margin of error for time in the system:\", margin_of_error_time_in_system)\n",
        "\n",
        "print(\"Average server idle time:\", avg_server_idle_time)\n",
        "print(\"Margin of error for server idle time:\", margin_of_error_server_idle_time)"
      ],
      "metadata": {
        "colab": {
          "base_uri": "https://localhost:8080/",
          "height": 0
        },
        "id": "tFqsCDrlzpRy",
        "outputId": "1c19a114-e59b-4ff7-8ecf-b31dab05fe1f"
      },
      "execution_count": 55,
      "outputs": [
        {
          "output_type": "stream",
          "name": "stdout",
          "text": [
            "Average service time: 7.1912087912087905\n",
            "Margin of error for service time: 0.07653327735951805\n",
            "Average queue wait time: 1.5571228771228751\n",
            "Margin of error for queue wait time: 0.15602034347048507\n",
            "Average time in the system: 8.806083916083915\n",
            "Margin of error for time in the system: 0.1754861387099591\n",
            "Average server idle time: 2.322847152847153\n",
            "Margin of error for server idle time: 0.17774470076558105\n"
          ]
        }
      ]
    },
    {
      "cell_type": "markdown",
      "source": [
        "# 8. Experimental design"
      ],
      "metadata": {
        "id": "NHCkJRPcnCK0"
      }
    },
    {
      "cell_type": "markdown",
      "source": [
        "The system is not efficient as seen by the average amount of time the student waits in the system. We can run simulations that would help us optimize the process and determine a more efficient manner of handling student admission."
      ],
      "metadata": {
        "id": "GdVsLw3yr4De"
      }
    },
    {
      "cell_type": "markdown",
      "source": [
        "## 8.1 Setting up parameters for the simulation"
      ],
      "metadata": {
        "id": "38F6N50atD4j"
      }
    },
    {
      "cell_type": "markdown",
      "source": [
        "The parameter values average inter-arrival time, average service time, and number of students are obtained from the results of our model above.\n",
        "\n",
        "The arrival rate is one student per average inter-arrival time and the service rate is one student per average service time.\n",
        "\n",
        "We assume that the duration of service is eight hours per day."
      ],
      "metadata": {
        "id": "ntjN-RdXtZsL"
      }
    },
    {
      "cell_type": "code",
      "source": [
        "avg_interarrival_time = average_inter_arrival_time   # minutes\n",
        "arrival_rate = 1.0 / avg_interarrival_time\n",
        "avg_service_time = average_service_time  # minutes\n",
        "service_rate = 1.0 / avg_service_time\n",
        "num_students = 1000\n",
        "service_duration = 8 * 60  # 8 hours"
      ],
      "metadata": {
        "id": "itNWGBKosFDd"
      },
      "execution_count": 56,
      "outputs": []
    },
    {
      "cell_type": "markdown",
      "source": [
        "## 8.2 Functions to monitor the student and their arrival\n",
        "\n",
        "* student_arrivals:\n",
        "\n",
        "This function represents the arrival process of students. It loops 40,000 times, where 40,000 is the total number of students to simulate.\n",
        "\n",
        "It checks if there is available capacity in the servers (both busy servers and waiting queue) up to the specified queue_capacity.\n",
        "\n",
        "If there is available capacity, a service time is generated from an exponential distribution using `random.expovariate(service_rate)`.\n",
        "\n",
        "Then, it initiates the student process using `env.process(student(env, servers, service_time))`.\n",
        "\n",
        "After that, it waits for a random inter-arrival time using `env.timeout(random.expovariate(arrival_rate))`, where arrival_rate is the average arrival rate of students.\n",
        "\n",
        "* student:\n",
        "\n",
        "This function represents the process of each student. When a student arrives, it records the arrival time `arrival_time` using `env.now`.\n",
        "\n",
        "Then, the student requests a server from the servers using `servers.request()`.\n",
        "\n",
        "The simulation will pause until the student can get a server from the available pool.\n",
        "\n",
        "Once the student acquires a server, it waits for the service time defined by `service_time` using `env.timeout(service_time)`.\n",
        "\n",
        "After the service is complete, the student's waiting time is calculated as the difference between the current simulation time and the arrival time, and it is appended to the `waiting_times` list."
      ],
      "metadata": {
        "id": "j-h9EzICu0eF"
      }
    },
    {
      "cell_type": "code",
      "source": [
        "def student_arrivals(env, servers, queue_capacity):\n",
        "    for i in range(num_students):\n",
        "        if servers.count + len(servers.queue) < queue_capacity:\n",
        "            service_time = random.expovariate(service_rate)\n",
        "            yield env.process(student(env, servers, service_time))\n",
        "        yield env.timeout(random.expovariate(arrival_rate))\n",
        "\n",
        "def student(env, servers, service_time):\n",
        "    arrival_time = env.now\n",
        "    with servers.request() as req:\n",
        "        yield req\n",
        "        yield env.timeout(service_time)\n",
        "        waiting_times.append(env.now - arrival_time)\n"
      ],
      "metadata": {
        "id": "_hvzD9emuymx"
      },
      "execution_count": 57,
      "outputs": []
    },
    {
      "cell_type": "markdown",
      "source": [
        "## 8.4 Defining the optimal conditions that the simulation should determine"
      ],
      "metadata": {
        "id": "U1BAmdiQxCHK"
      }
    },
    {
      "cell_type": "code",
      "source": [
        "optimal_conditions = {\n",
        "    'num_servers': None,\n",
        "    'queue_capacity': None,\n",
        "    'avg_waiting_time': float('inf'),\n",
        "    'num_days': float('inf')\n",
        "}"
      ],
      "metadata": {
        "id": "WjkBRS47xA-H"
      },
      "execution_count": 58,
      "outputs": []
    },
    {
      "cell_type": "markdown",
      "source": [
        "## 8.5 Finding Optimal Conditions\n",
        "\n",
        "The code uses nested loops to explore different combinations of `num_servers` and `queue_capacity`.\n",
        "\n",
        "For each combination, it sets up the simulation environment, runs the simulation with `env.run(until=num_students / arrival_rate)`, and calculates the average waiting time for all students.\n",
        "\n",
        "It also determines the number of days (`num_days`) needed to serve all students based on the `service_duration`."
      ],
      "metadata": {
        "id": "cQcTNgSXyIY0"
      }
    },
    {
      "cell_type": "code",
      "source": [
        "for num_servers in range(2, 7):\n",
        "    for queue_capacity in range(60, 101):\n",
        "        waiting_times = []\n",
        "        env = simpy.Environment()\n",
        "        servers = simpy.Resource(env, num_servers)\n",
        "        env.process(student_arrivals(env, servers, queue_capacity))\n",
        "        env.run(until=num_students / arrival_rate)\n",
        "        avg_waiting_time = sum(waiting_times) / len(waiting_times)\n",
        "        num_days = int(env.now // service_duration) + 1\n",
        "        if avg_waiting_time < optimal_conditions['avg_waiting_time']:\n",
        "            optimal_conditions = {\n",
        "                'num_servers': num_servers,\n",
        "                'queue_capacity': queue_capacity,\n",
        "                'avg_waiting_time': avg_waiting_time,\n",
        "                'num_days': num_days\n",
        "            }"
      ],
      "metadata": {
        "id": "JgmWF4GMxvvN"
      },
      "execution_count": 59,
      "outputs": []
    },
    {
      "cell_type": "markdown",
      "source": [
        "## 8.6 The results"
      ],
      "metadata": {
        "id": "wA8SDo5ayosK"
      }
    },
    {
      "cell_type": "code",
      "source": [
        "def results():\n",
        "  print('Optimal conditions:')\n",
        "  print('Number of servers:', optimal_conditions['num_servers'])\n",
        "  print('Queue capacity:', optimal_conditions['queue_capacity'])\n",
        "  print('Average waiting time:', round(optimal_conditions['avg_waiting_time'], 2), 'minutes')\n",
        "  print('Service days:', optimal_conditions['num_days'])\n",
        "\n",
        "results()"
      ],
      "metadata": {
        "colab": {
          "base_uri": "https://localhost:8080/",
          "height": 0
        },
        "id": "cz_OqEw_yroh",
        "outputId": "cba10988-f0e1-4b68-840a-560ce1f8b2dc"
      },
      "execution_count": 60,
      "outputs": [
        {
          "output_type": "stream",
          "name": "stdout",
          "text": [
            "Optimal conditions:\n",
            "Number of servers: 3\n",
            "Queue capacity: 97\n",
            "Average waiting time: 6.38 minutes\n",
            "Service days: 11\n"
          ]
        }
      ]
    },
    {
      "cell_type": "markdown",
      "source": [
        "# 9.0 More runs"
      ],
      "metadata": {
        "id": "3SYdz765UD8W"
      }
    },
    {
      "cell_type": "markdown",
      "source": [
        "We can run multiple simulations to obtains different values for optimal conditions"
      ],
      "metadata": {
        "id": "wyN_WZV6UJCj"
      }
    },
    {
      "cell_type": "code",
      "source": [
        "for i in range(5):\n",
        "  def student_arrivals(env, servers, queue_capacity):\n",
        "    for i in range(num_students):\n",
        "        if servers.count + len(servers.queue) < queue_capacity:\n",
        "            service_time = random.expovariate(service_rate)\n",
        "            yield env.process(student(env, servers, service_time))\n",
        "        yield env.timeout(random.expovariate(arrival_rate))\n",
        "\n",
        "  def student(env, servers, service_time):\n",
        "    arrival_time = env.now\n",
        "    with servers.request() as req:\n",
        "        yield req\n",
        "        yield env.timeout(service_time)\n",
        "        waiting_times.append(env.now - arrival_time)\n",
        "\n",
        "  for num_servers in range(2, 7):\n",
        "    for queue_capacity in range(60, 101):\n",
        "        waiting_times = []\n",
        "        env = simpy.Environment()\n",
        "        servers = simpy.Resource(env, num_servers)\n",
        "        env.process(student_arrivals(env, servers, queue_capacity))\n",
        "        env.run(until=num_students / arrival_rate)\n",
        "        avg_waiting_time = sum(waiting_times) / len(waiting_times)\n",
        "        num_days = int(env.now // service_duration) + 1\n",
        "        if avg_waiting_time < optimal_conditions['avg_waiting_time']:\n",
        "            optimal_conditions = {\n",
        "                'num_servers': num_servers,\n",
        "                'queue_capacity': queue_capacity,\n",
        "                'avg_waiting_time': avg_waiting_time,\n",
        "                'num_days': num_days\n",
        "            }\n",
        "  results()"
      ],
      "metadata": {
        "colab": {
          "base_uri": "https://localhost:8080/",
          "height": 0
        },
        "id": "qlWaeQkUUVvh",
        "outputId": "eb630892-0236-44ed-c03a-bafb8f98d2f8"
      },
      "execution_count": 61,
      "outputs": [
        {
          "output_type": "stream",
          "name": "stdout",
          "text": [
            "Optimal conditions:\n",
            "Number of servers: 3\n",
            "Queue capacity: 97\n",
            "Average waiting time: 6.38 minutes\n",
            "Service days: 11\n",
            "Optimal conditions:\n",
            "Number of servers: 3\n",
            "Queue capacity: 81\n",
            "Average waiting time: 6.34 minutes\n",
            "Service days: 11\n",
            "Optimal conditions:\n",
            "Number of servers: 5\n",
            "Queue capacity: 85\n",
            "Average waiting time: 6.28 minutes\n",
            "Service days: 11\n",
            "Optimal conditions:\n",
            "Number of servers: 5\n",
            "Queue capacity: 85\n",
            "Average waiting time: 6.28 minutes\n",
            "Service days: 11\n",
            "Optimal conditions:\n",
            "Number of servers: 6\n",
            "Queue capacity: 86\n",
            "Average waiting time: 6.1 minutes\n",
            "Service days: 11\n"
          ]
        }
      ]
    },
    {
      "cell_type": "markdown",
      "source": [
        "# 10.0 Implementation"
      ],
      "metadata": {
        "id": "OsuCcYC2zTCz"
      }
    },
    {
      "cell_type": "markdown",
      "source": [
        "The system can be implemented based on the optimum conditions provided by the model and adjusted to fit different scenarios."
      ],
      "metadata": {
        "id": "mN_1MVxHzXzK"
      }
    },
    {
      "cell_type": "markdown",
      "source": [
        "# 11.0 References"
      ],
      "metadata": {
        "id": "iPpIkK0w6SAJ"
      }
    },
    {
      "cell_type": "markdown",
      "source": [
        "Kleinrock, L. (1975). Queueing Systems, Volume I - Theory. Wiley-Interscience.\n",
        "\n",
        "Ross, S. M. (2007). Introduction to Probability Models. Academic Press.\n",
        "\n",
        "Lavenberg, S. S. (2005). Queueing Theory and Its Applications: A Personal View. Queueing Systems, 50(1-2), 3-20."
      ],
      "metadata": {
        "id": "kjFtL5AH9gIe"
      }
    }
  ]
}