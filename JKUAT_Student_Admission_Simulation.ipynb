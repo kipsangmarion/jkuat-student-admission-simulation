{
  "nbformat": 4,
  "nbformat_minor": 0,
  "metadata": {
    "colab": {
      "provenance": [],
      "include_colab_link": true
    },
    "kernelspec": {
      "name": "python3",
      "display_name": "Python 3"
    },
    "language_info": {
      "name": "python"
    }
  },
  "cells": [
    {
      "cell_type": "markdown",
      "metadata": {
        "id": "view-in-github",
        "colab_type": "text"
      },
      "source": [
        "<a href=\"https://colab.research.google.com/github/kipsangmarion/jkuat-student-admission-simulation/blob/main/JKUAT_Student_Admission_Simulation.ipynb\" target=\"_parent\"><img src=\"https://colab.research.google.com/assets/colab-badge.svg\" alt=\"Open In Colab\"/></a>"
      ]
    },
    {
      "cell_type": "markdown",
      "source": [
        "#1. Problem Formulation"
      ],
      "metadata": {
        "id": "N7sUVixLoiiP"
      }
    },
    {
      "cell_type": "markdown",
      "source": [
        "# 2. Objectives and Overall Project Plan"
      ],
      "metadata": {
        "id": "0ufezMC2pI01"
      }
    },
    {
      "cell_type": "markdown",
      "source": [
        "## 2.1 Objectives/ Questions to be answered by system\n",
        "\n",
        "* What is the average waiting time for students in the queue?\n",
        "* What is the average amount of time the server is idle?\n",
        "* What is the average service time for a student?\n",
        "* What is the average inter-arrival time?\n",
        "* What is the average amount of time a student spends in the system?\n",
        "* How can we optimize the queueing system to attend to students more efficiently?"
      ],
      "metadata": {
        "id": "WCN07Bqdpe2Z"
      }
    },
    {
      "cell_type": "markdown",
      "source": [
        "## 2.2 Project Plan\n",
        "\n",
        "### 2.2.1//State the alternativen systems and methods of evaluating them//\n",
        "\n",
        "### 2.2.2 Project team:\n",
        "\n",
        "Shirley Mbeyu Ddaiddo\n",
        "\n",
        "Ashley Mbeke Muoki\n",
        "\n",
        "Ceasar Njuguna Ngunu\n",
        "\n",
        "Marion Cherotich Kipsang\n",
        "\n",
        "Allan Erissat Okedo\n",
        "\n",
        "### 2.2.3 Cost of the study\n",
        "\n",
        "//maybe a water budget//\n",
        "\n",
        "### 2.2.4 //No of days rewuired to accomplisheach phase\n",
        "\n",
        "\n"
      ],
      "metadata": {
        "id": "4X7rmb5Vp66Y"
      }
    },
    {
      "cell_type": "markdown",
      "source": [
        "# 3. Model Conceptualization"
      ],
      "metadata": {
        "id": "xPvbRasXaBLf"
      }
    },
    {
      "cell_type": "markdown",
      "source": [
        "We consider a system for admitting students to Jomo Kenyatta University of agriculture and Technology. We then consider a sistuation with two servers attending to a single queue of students, and the number of students to be served is 40,000 students.\n",
        "\n",
        "We collect data on student arrival times and service times. We the consider a 1000 hours period of time. From that data, and for each student, we determine:\n",
        "* the inter-arrival times:\n",
        "    - This is the difference between the arrival times of the current students in the queue and the student who arrived right before them in the queue.\n",
        "    - The inter-arrival time for the first student in the queue is zero.\n",
        "* time service begins:\n",
        "    - Time service begins is dependent on the arrival time of the current student as compared to the time service ends for the previous student.\n",
        "    - If a student arrives before the previous student has been finished being served, their service begins when the previous student finishes being served.\n",
        "    - If a student arrives when the previous student has already been served, their service begins as soon as they arrive.\n",
        "* time service ends:\n",
        "    - Time that service ends for a student is equal to the sum of their arrival time and the time taken to serve them.\n",
        "* the queue wait times:\n",
        "    - Time that a student spends queueing depends on their arrival time as compared to the time service ends for the previous student.\n",
        "    - If a student arrives before the previous student has been finished being served, their time in the queue is the difference between the time service ends for the previous student and the current students arrival time.\n",
        "    - If a student arrives when the previous student has already been served, they do not spend any time queueing.\n",
        "* time in the system:\n",
        "    - The time a student spends in the system is the sum of the time they spent queueing and the time spend being served.\n",
        "* server idle times:\n",
        "    - Server idle times depends on the current students arrival time as compared to the time service ends for the previous student\n",
        "    - If a student arrives before another student has been finished being served, the server has no idle time since there is a student in the queue.\n",
        "    - If a student arrives when there is no one being served, the server is idle until the another student arrives.\n",
        "\n",
        "From the calculated data, we can determine the averages required, the effectiveness of the system, and how we can optimize the system."
      ],
      "metadata": {
        "id": "h_WTgYDsanYM"
      }
    },
    {
      "cell_type": "markdown",
      "source": [
        "# 4. Data Collection"
      ],
      "metadata": {
        "id": "uK86yewVh73s"
      }
    },
    {
      "cell_type": "markdown",
      "source": [
        "Data for the system is computer generated using pseudo-random numbers.\n",
        "\n",
        "* Arrival Time:\n",
        "\n",
        "Arrival time for students in minutes is generated using a function that generated pseudo-random numbers that increase. The fuction generates 40,000 arrival times that span 1000 hours/ 60,000 minutes.\n",
        "\n",
        "* Service Time:\n",
        "\n",
        "Service time for students in minutes is generated using a sin function that outputs pseudo-random values that are then multiplied by 10."
      ],
      "metadata": {
        "id": "zoA67ptLiDWJ"
      }
    },
    {
      "cell_type": "markdown",
      "source": [
        "# 5. Model Translation"
      ],
      "metadata": {
        "id": "19UA4UoMjJS6"
      }
    },
    {
      "cell_type": "markdown",
      "source": [
        "The above model is translated into python code."
      ],
      "metadata": {
        "id": "vBM0pdOTjRZ5"
      }
    },
    {
      "cell_type": "markdown",
      "source": [
        "## 5.1 Adding dependecies\n",
        "The system requires:\n",
        "* pandas, and numpy to compute calculations on data frames and arrays\n",
        "* random for the generation of pseudo-random numbers\n",
        "* math for access to the sine function"
      ],
      "metadata": {
        "id": "dKA2AJ6fjXPk"
      }
    },
    {
      "cell_type": "code",
      "execution_count": 1,
      "metadata": {
        "id": "2dz5t_h5M2gH"
      },
      "outputs": [],
      "source": [
        "import pandas as pd\n",
        "import numpy as np\n",
        "import random\n",
        "import math\n",
        "from math import sin"
      ]
    },
    {
      "cell_type": "markdown",
      "source": [
        "## 5.2 Generating student service times"
      ],
      "metadata": {
        "id": "P8ZzhAC2j41m"
      }
    },
    {
      "cell_type": "code",
      "source": [
        "service_times= []\n",
        "\n",
        "for i in range(40000):\n",
        "  num = random.random()\n",
        "  time = round((10*(sin(num)+1)/2), 2)\n",
        "  service_times.append(time)\n",
        "\n",
        "len(service_times)"
      ],
      "metadata": {
        "colab": {
          "base_uri": "https://localhost:8080/"
        },
        "id": "vdkCc4GaQNan",
        "outputId": "c3a7d46b-d6da-4ebd-df62-5341022d53c9"
      },
      "execution_count": 2,
      "outputs": [
        {
          "output_type": "execute_result",
          "data": {
            "text/plain": [
              "40000"
            ]
          },
          "metadata": {},
          "execution_count": 2
        }
      ]
    },
    {
      "cell_type": "markdown",
      "source": [
        "## 5.3 Generating student arrival times"
      ],
      "metadata": {
        "id": "wY5YrjjGkbA4"
      }
    },
    {
      "cell_type": "code",
      "source": [
        "arrival_times = []\n",
        "\n",
        "arrival_time = 10*random.random()\n",
        "arrival_times.append(round(arrival_time, 2))\n",
        "\n",
        "for i in range(39999):\n",
        "    arrival_time = 10*random.random() * ((60000-arrival_times[i])/60000) + arrival_times[i]\n",
        "    arrival_times.append(round(arrival_time, 2))\n",
        "\n",
        "for i in range(39999):\n",
        "     arrival_times[i]\n",
        "\n",
        "len(arrival_times)"
      ],
      "metadata": {
        "id": "WZjjqKlSiE1X",
        "colab": {
          "base_uri": "https://localhost:8080/"
        },
        "outputId": "d8cf3d40-e846-4bd9-808b-336065b952de"
      },
      "execution_count": 6,
      "outputs": [
        {
          "output_type": "execute_result",
          "data": {
            "text/plain": [
              "40000"
            ]
          },
          "metadata": {},
          "execution_count": 6
        }
      ]
    },
    {
      "cell_type": "markdown",
      "source": [
        "## 5.4 Calculating inter-arrival times"
      ],
      "metadata": {
        "id": "_g0hZG9kkuZy"
      }
    },
    {
      "cell_type": "code",
      "source": [
        "inter_arrival_times = [0]\n",
        "\n",
        "for i in range(1,40000):\n",
        "  inter_arrival_time = round(arrival_times[i] - arrival_times[i-1],2)\n",
        "  inter_arrival_times.append(inter_arrival_time)\n",
        "len(inter_arrival_times)\n"
      ],
      "metadata": {
        "colab": {
          "base_uri": "https://localhost:8080/"
        },
        "id": "a53tV_u7tT6R",
        "outputId": "828ddb90-d48b-4a52-8f2f-c1e9705f9b4d"
      },
      "execution_count": 9,
      "outputs": [
        {
          "output_type": "execute_result",
          "data": {
            "text/plain": [
              "40000"
            ]
          },
          "metadata": {},
          "execution_count": 9
        }
      ]
    },
    {
      "cell_type": "markdown",
      "source": [
        "## 5.5 Calculating when service begins, ends and time spent in queue"
      ],
      "metadata": {
        "id": "QZwW4PEHlApi"
      }
    },
    {
      "cell_type": "code",
      "source": [
        "service_begin_times = [arrival_times[0]]\n",
        "queue_wait_times = [0.00]\n",
        "service_end_times = [service_begin_times[0]+service_times[0]]\n",
        "\n",
        "for i in range(1,40000):\n",
        "  if arrival_times[i]>service_end_times[i-1]:\n",
        "    service_begin_time = arrival_times[i]\n",
        "    queue_wait_time = 0.00\n",
        "  else:\n",
        "    service_begin_time = service_end_times[i-1]\n",
        "    queue_wait_time = service_end_times[i-1] - arrival_times[i]\n",
        "  service_begin_times.append(service_begin_time)\n",
        "  queue_wait_times.append(queue_wait_time)\n",
        "\n",
        "  service_end_time = round(service_times[i] + service_begin_times[i],2)\n",
        "  service_end_times.append(service_end_time)\n",
        "\n",
        "print(len(service_begin_times))\n",
        "print(len(queue_wait_times))\n",
        "print(len(service_end_times))"
      ],
      "metadata": {
        "id": "axSnoWhLwKav",
        "colab": {
          "base_uri": "https://localhost:8080/"
        },
        "outputId": "0b7d35e0-8f46-4add-a089-e088596a43ef"
      },
      "execution_count": 13,
      "outputs": [
        {
          "output_type": "stream",
          "name": "stdout",
          "text": [
            "40000\n",
            "40000\n",
            "40000\n"
          ]
        }
      ]
    },
    {
      "cell_type": "markdown",
      "source": [
        "## 5.6 Calculating total time spent in the system"
      ],
      "metadata": {
        "id": "G_cnk7F3lvFr"
      }
    },
    {
      "cell_type": "code",
      "source": [
        "times_in_system = []\n",
        "for i in range(40000):\n",
        "  time_in_system = round(queue_wait_times[i] + service_times[i],2)\n",
        "  times_in_system.append(time_in_system)\n",
        "\n",
        "len(times_in_system)"
      ],
      "metadata": {
        "id": "lWzGGHnK8xRp",
        "colab": {
          "base_uri": "https://localhost:8080/"
        },
        "outputId": "0a330cee-ff84-4848-f643-4f07164e7f8e"
      },
      "execution_count": 17,
      "outputs": [
        {
          "output_type": "execute_result",
          "data": {
            "text/plain": [
              "40000"
            ]
          },
          "metadata": {},
          "execution_count": 17
        }
      ]
    },
    {
      "cell_type": "markdown",
      "source": [
        "## 5.7 Calculating server idle times"
      ],
      "metadata": {
        "id": "_pomUpS4mB_T"
      }
    },
    {
      "cell_type": "code",
      "source": [
        "server_idle_times=[0]\n",
        "\n",
        "for i in range(1,40000):\n",
        "  if arrival_times[i] > service_end_times[i-1]:\n",
        "    server_idle_time = arrival_times[i] - service_end_times[i-1]\n",
        "  else:\n",
        "    server_idle_time = 0.00\n",
        "  server_idle_times.append(server_idle_time)\n",
        "\n",
        "len(server_idle_times)"
      ],
      "metadata": {
        "colab": {
          "base_uri": "https://localhost:8080/"
        },
        "id": "-o5g3Qnc-Yan",
        "outputId": "4f764d86-08e0-4e6f-b530-84043efe7baf"
      },
      "execution_count": 18,
      "outputs": [
        {
          "output_type": "execute_result",
          "data": {
            "text/plain": [
              "40000"
            ]
          },
          "metadata": {},
          "execution_count": 18
        }
      ]
    },
    {
      "cell_type": "markdown",
      "source": [
        "## 5.8 Adding all the data to a dataframe"
      ],
      "metadata": {
        "id": "SM6pWG-PmSPi"
      }
    },
    {
      "cell_type": "code",
      "source": [
        "ss = pd.DataFrame(\n",
        "    {'service_time': service_times, 'arrival_time': arrival_times, 'inter_arrival_time': inter_arrival_times,\n",
        "     'time_service_begins': service_begin_times, 'queue_wait_time': queue_wait_times,\n",
        "     'time_service_ends': service_end_times, 'time_in_system': times_in_system, 'server_idle_time': server_idle_times})"
      ],
      "metadata": {
        "id": "6wJDmpiUlP75"
      },
      "execution_count": 19,
      "outputs": []
    },
    {
      "cell_type": "markdown",
      "source": [
        "displaying the data"
      ],
      "metadata": {
        "id": "QJIPeYvTmcVa"
      }
    },
    {
      "cell_type": "code",
      "source": [
        "ss.head()"
      ],
      "metadata": {
        "id": "8aKRZ2cxnKcl",
        "colab": {
          "base_uri": "https://localhost:8080/",
          "height": 206
        },
        "outputId": "9fc7dd4b-f92e-448a-fd53-52f2c86fed40"
      },
      "execution_count": 20,
      "outputs": [
        {
          "output_type": "execute_result",
          "data": {
            "text/plain": [
              "   service_time  arrival_time  inter_arrival_time  time_service_begins  \\\n",
              "0          8.83          2.94                0.00                 2.94   \n",
              "1          6.87          5.50                2.56                11.77   \n",
              "2          8.65         14.22                8.72                18.64   \n",
              "3          5.12         22.49                8.27                27.29   \n",
              "4          6.61         22.69                0.20                32.41   \n",
              "\n",
              "   queue_wait_time  time_service_ends  time_in_system  server_idle_time  \n",
              "0             0.00              11.77            8.83               0.0  \n",
              "1             6.27              18.64           13.14               0.0  \n",
              "2             4.42              27.29           13.07               0.0  \n",
              "3             4.80              32.41            9.92               0.0  \n",
              "4             9.72              39.02           16.33               0.0  "
            ],
            "text/html": [
              "\n",
              "\n",
              "  <div id=\"df-77bccd59-07a1-466f-a346-2e13af11a0eb\">\n",
              "    <div class=\"colab-df-container\">\n",
              "      <div>\n",
              "<style scoped>\n",
              "    .dataframe tbody tr th:only-of-type {\n",
              "        vertical-align: middle;\n",
              "    }\n",
              "\n",
              "    .dataframe tbody tr th {\n",
              "        vertical-align: top;\n",
              "    }\n",
              "\n",
              "    .dataframe thead th {\n",
              "        text-align: right;\n",
              "    }\n",
              "</style>\n",
              "<table border=\"1\" class=\"dataframe\">\n",
              "  <thead>\n",
              "    <tr style=\"text-align: right;\">\n",
              "      <th></th>\n",
              "      <th>service_time</th>\n",
              "      <th>arrival_time</th>\n",
              "      <th>inter_arrival_time</th>\n",
              "      <th>time_service_begins</th>\n",
              "      <th>queue_wait_time</th>\n",
              "      <th>time_service_ends</th>\n",
              "      <th>time_in_system</th>\n",
              "      <th>server_idle_time</th>\n",
              "    </tr>\n",
              "  </thead>\n",
              "  <tbody>\n",
              "    <tr>\n",
              "      <th>0</th>\n",
              "      <td>8.83</td>\n",
              "      <td>2.94</td>\n",
              "      <td>0.00</td>\n",
              "      <td>2.94</td>\n",
              "      <td>0.00</td>\n",
              "      <td>11.77</td>\n",
              "      <td>8.83</td>\n",
              "      <td>0.0</td>\n",
              "    </tr>\n",
              "    <tr>\n",
              "      <th>1</th>\n",
              "      <td>6.87</td>\n",
              "      <td>5.50</td>\n",
              "      <td>2.56</td>\n",
              "      <td>11.77</td>\n",
              "      <td>6.27</td>\n",
              "      <td>18.64</td>\n",
              "      <td>13.14</td>\n",
              "      <td>0.0</td>\n",
              "    </tr>\n",
              "    <tr>\n",
              "      <th>2</th>\n",
              "      <td>8.65</td>\n",
              "      <td>14.22</td>\n",
              "      <td>8.72</td>\n",
              "      <td>18.64</td>\n",
              "      <td>4.42</td>\n",
              "      <td>27.29</td>\n",
              "      <td>13.07</td>\n",
              "      <td>0.0</td>\n",
              "    </tr>\n",
              "    <tr>\n",
              "      <th>3</th>\n",
              "      <td>5.12</td>\n",
              "      <td>22.49</td>\n",
              "      <td>8.27</td>\n",
              "      <td>27.29</td>\n",
              "      <td>4.80</td>\n",
              "      <td>32.41</td>\n",
              "      <td>9.92</td>\n",
              "      <td>0.0</td>\n",
              "    </tr>\n",
              "    <tr>\n",
              "      <th>4</th>\n",
              "      <td>6.61</td>\n",
              "      <td>22.69</td>\n",
              "      <td>0.20</td>\n",
              "      <td>32.41</td>\n",
              "      <td>9.72</td>\n",
              "      <td>39.02</td>\n",
              "      <td>16.33</td>\n",
              "      <td>0.0</td>\n",
              "    </tr>\n",
              "  </tbody>\n",
              "</table>\n",
              "</div>\n",
              "      <button class=\"colab-df-convert\" onclick=\"convertToInteractive('df-77bccd59-07a1-466f-a346-2e13af11a0eb')\"\n",
              "              title=\"Convert this dataframe to an interactive table.\"\n",
              "              style=\"display:none;\">\n",
              "\n",
              "  <svg xmlns=\"http://www.w3.org/2000/svg\" height=\"24px\"viewBox=\"0 0 24 24\"\n",
              "       width=\"24px\">\n",
              "    <path d=\"M0 0h24v24H0V0z\" fill=\"none\"/>\n",
              "    <path d=\"M18.56 5.44l.94 2.06.94-2.06 2.06-.94-2.06-.94-.94-2.06-.94 2.06-2.06.94zm-11 1L8.5 8.5l.94-2.06 2.06-.94-2.06-.94L8.5 2.5l-.94 2.06-2.06.94zm10 10l.94 2.06.94-2.06 2.06-.94-2.06-.94-.94-2.06-.94 2.06-2.06.94z\"/><path d=\"M17.41 7.96l-1.37-1.37c-.4-.4-.92-.59-1.43-.59-.52 0-1.04.2-1.43.59L10.3 9.45l-7.72 7.72c-.78.78-.78 2.05 0 2.83L4 21.41c.39.39.9.59 1.41.59.51 0 1.02-.2 1.41-.59l7.78-7.78 2.81-2.81c.8-.78.8-2.07 0-2.86zM5.41 20L4 18.59l7.72-7.72 1.47 1.35L5.41 20z\"/>\n",
              "  </svg>\n",
              "      </button>\n",
              "\n",
              "\n",
              "\n",
              "    <div id=\"df-eea588bc-66fc-43ad-b172-38e00d89bc51\">\n",
              "      <button class=\"colab-df-quickchart\" onclick=\"quickchart('df-eea588bc-66fc-43ad-b172-38e00d89bc51')\"\n",
              "              title=\"Suggest charts.\"\n",
              "              style=\"display:none;\">\n",
              "\n",
              "<svg xmlns=\"http://www.w3.org/2000/svg\" height=\"24px\"viewBox=\"0 0 24 24\"\n",
              "     width=\"24px\">\n",
              "    <g>\n",
              "        <path d=\"M19 3H5c-1.1 0-2 .9-2 2v14c0 1.1.9 2 2 2h14c1.1 0 2-.9 2-2V5c0-1.1-.9-2-2-2zM9 17H7v-7h2v7zm4 0h-2V7h2v10zm4 0h-2v-4h2v4z\"/>\n",
              "    </g>\n",
              "</svg>\n",
              "      </button>\n",
              "    </div>\n",
              "\n",
              "<style>\n",
              "  .colab-df-quickchart {\n",
              "    background-color: #E8F0FE;\n",
              "    border: none;\n",
              "    border-radius: 50%;\n",
              "    cursor: pointer;\n",
              "    display: none;\n",
              "    fill: #1967D2;\n",
              "    height: 32px;\n",
              "    padding: 0 0 0 0;\n",
              "    width: 32px;\n",
              "  }\n",
              "\n",
              "  .colab-df-quickchart:hover {\n",
              "    background-color: #E2EBFA;\n",
              "    box-shadow: 0px 1px 2px rgba(60, 64, 67, 0.3), 0px 1px 3px 1px rgba(60, 64, 67, 0.15);\n",
              "    fill: #174EA6;\n",
              "  }\n",
              "\n",
              "  [theme=dark] .colab-df-quickchart {\n",
              "    background-color: #3B4455;\n",
              "    fill: #D2E3FC;\n",
              "  }\n",
              "\n",
              "  [theme=dark] .colab-df-quickchart:hover {\n",
              "    background-color: #434B5C;\n",
              "    box-shadow: 0px 1px 3px 1px rgba(0, 0, 0, 0.15);\n",
              "    filter: drop-shadow(0px 1px 2px rgba(0, 0, 0, 0.3));\n",
              "    fill: #FFFFFF;\n",
              "  }\n",
              "</style>\n",
              "\n",
              "    <script>\n",
              "      async function quickchart(key) {\n",
              "        const containerElement = document.querySelector('#' + key);\n",
              "        const charts = await google.colab.kernel.invokeFunction(\n",
              "            'suggestCharts', [key], {});\n",
              "      }\n",
              "    </script>\n",
              "\n",
              "      <script>\n",
              "\n",
              "function displayQuickchartButton(domScope) {\n",
              "  let quickchartButtonEl =\n",
              "    domScope.querySelector('#df-eea588bc-66fc-43ad-b172-38e00d89bc51 button.colab-df-quickchart');\n",
              "  quickchartButtonEl.style.display =\n",
              "    google.colab.kernel.accessAllowed ? 'block' : 'none';\n",
              "}\n",
              "\n",
              "        displayQuickchartButton(document);\n",
              "      </script>\n",
              "      <style>\n",
              "    .colab-df-container {\n",
              "      display:flex;\n",
              "      flex-wrap:wrap;\n",
              "      gap: 12px;\n",
              "    }\n",
              "\n",
              "    .colab-df-convert {\n",
              "      background-color: #E8F0FE;\n",
              "      border: none;\n",
              "      border-radius: 50%;\n",
              "      cursor: pointer;\n",
              "      display: none;\n",
              "      fill: #1967D2;\n",
              "      height: 32px;\n",
              "      padding: 0 0 0 0;\n",
              "      width: 32px;\n",
              "    }\n",
              "\n",
              "    .colab-df-convert:hover {\n",
              "      background-color: #E2EBFA;\n",
              "      box-shadow: 0px 1px 2px rgba(60, 64, 67, 0.3), 0px 1px 3px 1px rgba(60, 64, 67, 0.15);\n",
              "      fill: #174EA6;\n",
              "    }\n",
              "\n",
              "    [theme=dark] .colab-df-convert {\n",
              "      background-color: #3B4455;\n",
              "      fill: #D2E3FC;\n",
              "    }\n",
              "\n",
              "    [theme=dark] .colab-df-convert:hover {\n",
              "      background-color: #434B5C;\n",
              "      box-shadow: 0px 1px 3px 1px rgba(0, 0, 0, 0.15);\n",
              "      filter: drop-shadow(0px 1px 2px rgba(0, 0, 0, 0.3));\n",
              "      fill: #FFFFFF;\n",
              "    }\n",
              "  </style>\n",
              "\n",
              "      <script>\n",
              "        const buttonEl =\n",
              "          document.querySelector('#df-77bccd59-07a1-466f-a346-2e13af11a0eb button.colab-df-convert');\n",
              "        buttonEl.style.display =\n",
              "          google.colab.kernel.accessAllowed ? 'block' : 'none';\n",
              "\n",
              "        async function convertToInteractive(key) {\n",
              "          const element = document.querySelector('#df-77bccd59-07a1-466f-a346-2e13af11a0eb');\n",
              "          const dataTable =\n",
              "            await google.colab.kernel.invokeFunction('convertToInteractive',\n",
              "                                                     [key], {});\n",
              "          if (!dataTable) return;\n",
              "\n",
              "          const docLinkHtml = 'Like what you see? Visit the ' +\n",
              "            '<a target=\"_blank\" href=https://colab.research.google.com/notebooks/data_table.ipynb>data table notebook</a>'\n",
              "            + ' to learn more about interactive tables.';\n",
              "          element.innerHTML = '';\n",
              "          dataTable['output_type'] = 'display_data';\n",
              "          await google.colab.output.renderOutput(dataTable, element);\n",
              "          const docLink = document.createElement('div');\n",
              "          docLink.innerHTML = docLinkHtml;\n",
              "          element.appendChild(docLink);\n",
              "        }\n",
              "      </script>\n",
              "    </div>\n",
              "  </div>\n"
            ]
          },
          "metadata": {},
          "execution_count": 20
        }
      ]
    },
    {
      "cell_type": "markdown",
      "source": [
        "## 5.9 Converting the data to a csv file"
      ],
      "metadata": {
        "id": "wZtNJebTmh62"
      }
    },
    {
      "cell_type": "code",
      "source": [
        "ss.to_csv('admission_data.csv', index=False)\n"
      ],
      "metadata": {
        "id": "2tjPtUDHSlpK"
      },
      "execution_count": null,
      "outputs": []
    },
    {
      "cell_type": "markdown",
      "source": [
        "## 5.10 Calculating the results"
      ],
      "metadata": {
        "id": "aKyiI6wdmrGp"
      }
    },
    {
      "cell_type": "code",
      "source": [
        "average_waiting_time = ss['queue_wait_time'].mean()\n",
        "average_idle_server_time = ss['server_idle_time'].mean()\n",
        "average_service_time = ss['service_time'].mean()\n",
        "average_inter_arrival_time = ss['inter_arrival_time'].mean()\n",
        "average_time_in_system = ss['time_in_system'].mean()\n"
      ],
      "metadata": {
        "id": "b8Si_5CJriOG"
      },
      "execution_count": 21,
      "outputs": []
    },
    {
      "cell_type": "code",
      "source": [
        "print(f\"The average waiting time is: {round(average_waiting_time,2)}\")\n",
        "print(f\"The average idle server time is: {average_idle_server_time}\")\n",
        "print(f\"The average service time is: {round(average_service_time, 2)}\")\n",
        "print(f\"The average inter arrival time is:{round(average_inter_arrival_time, 2)}\")\n",
        "print(f\"The average time a customer spent in the system: {round(average_time_in_system, 2)}\")"
      ],
      "metadata": {
        "id": "kdCrohkTJuKf",
        "colab": {
          "base_uri": "https://localhost:8080/"
        },
        "outputId": "4abab5bd-7211-4677-bd4a-52836929bc2b"
      },
      "execution_count": 22,
      "outputs": [
        {
          "output_type": "stream",
          "name": "stdout",
          "text": [
            "The average waiting time is: 103228.4\n",
            "The average idle server time is: 0.0\n",
            "The average service time is: 7.3\n",
            "The average inter arrival time is:1.45\n",
            "The average time a customer spent in the system: 103235.7\n"
          ]
        }
      ]
    },
    {
      "cell_type": "markdown",
      "source": [
        "# 6. Model Verification"
      ],
      "metadata": {
        "id": "OtE2BkKQm05M"
      }
    },
    {
      "cell_type": "markdown",
      "source": [
        "# 7. Model Validation"
      ],
      "metadata": {
        "id": "IiKzq-_Sm68o"
      }
    },
    {
      "cell_type": "markdown",
      "source": [
        "# 8. Experimental design"
      ],
      "metadata": {
        "id": "NHCkJRPcnCK0"
      }
    }
  ]
}